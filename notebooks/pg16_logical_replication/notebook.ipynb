{
 "cells": [
  {
   "cell_type": "markdown",
   "id": "61121629-172a-4134-899a-6b4cd3b8a127",
   "metadata": {},
   "source": [
    "# Mise en place d'une réplication logique\n",
    "\n",
    "Dans ce notebook, nous allons mettre en place une réplication logique en commençant par l'uni-directionnelle (d'une instance vers une autre, sans retour).\n",
    "\n",
    "Ensuite, nous essayerons (bêtement) de créer une réplication dans l'autre sens et nous verrons rapidement que cela ne peut pas fonctionner en l'état, sans une option rajoutée dans PostgreSQL 16.0.\n",
    "\n",
    "## Installation et configuration\n",
    "\n",
    "Nous allons déjà débuter par configurer notre notebook, et créer les deux objets matérialisant nos deux instances PostgreSQL."
   ]
  },
  {
   "cell_type": "code",
   "execution_count": 1,
   "id": "4a120644-9497-4b68-a13b-f6f8ff05ab5b",
   "metadata": {},
   "outputs": [],
   "source": [
    "%load_ext sql\n",
    "import sqlalchemy"
   ]
  },
  {
   "cell_type": "code",
   "execution_count": 2,
   "id": "f694c7da-34f8-46c1-a3c0-4cc667fa7d19",
   "metadata": {},
   "outputs": [],
   "source": [
    "engine_pg_na = sqlalchemy.create_engine('postgresql://postgres:postgres@pg_na:5432/postgres')\n",
    "engine_pg_western_europe = sqlalchemy.create_engine('postgresql://postgres:postgres@pg_western_europe:5432/postgres')\n"
   ]
  },
  {
   "cell_type": "markdown",
   "id": "1d1a07bc-53de-476c-b804-0ed960207fba",
   "metadata": {},
   "source": [
    "## Données initiales\n",
    "\n",
    "Une fois que cela est fait, nous allons partir en Europe de l'Ouest, créer notre table et y insérer quelques tuples."
   ]
  },
  {
   "cell_type": "code",
   "execution_count": 3,
   "id": "96c78a6a-5138-4fd4-9ed9-0d554c8a70e8",
   "metadata": {},
   "outputs": [],
   "source": [
    "%sql engine_pg_western_europe"
   ]
  },
  {
   "cell_type": "code",
   "execution_count": 4,
   "id": "0ffa04d5-cbe5-4381-8629-d698a6cf650f",
   "metadata": {},
   "outputs": [
    {
     "data": {
      "text/html": [
       "<span style=\"None\">Running query in &#x27;postgresql://postgres:***@pg_western_europe:5432/postgres&#x27;</span>"
      ],
      "text/plain": [
       "Running query in 'postgresql://postgres:***@pg_western_europe:5432/postgres'"
      ]
     },
     "metadata": {},
     "output_type": "display_data"
    },
    {
     "data": {
      "text/html": [
       "<table>\n",
       "    <thead>\n",
       "        <tr>\n",
       "        </tr>\n",
       "    </thead>\n",
       "    <tbody>\n",
       "    </tbody>\n",
       "</table>"
      ],
      "text/plain": [
       "++\n",
       "||\n",
       "++\n",
       "++"
      ]
     },
     "execution_count": 4,
     "metadata": {},
     "output_type": "execute_result"
    }
   ],
   "source": [
    "%%sql DROP TABLE IF EXISTS ticket; CREATE TABLE ticket(\n",
    "    id UUID PRIMARY KEY DEFAULT gen_random_uuid(),\n",
    "    total NUMERIC(5,2)\n",
    ")\n"
   ]
  },
  {
   "cell_type": "code",
   "execution_count": 5,
   "id": "b951d04e-5c0d-4efe-86c0-635180496435",
   "metadata": {},
   "outputs": [
    {
     "data": {
      "text/html": [
       "<span style=\"None\">Running query in &#x27;postgresql://postgres:***@pg_western_europe:5432/postgres&#x27;</span>"
      ],
      "text/plain": [
       "Running query in 'postgresql://postgres:***@pg_western_europe:5432/postgres'"
      ]
     },
     "metadata": {},
     "output_type": "display_data"
    },
    {
     "data": {
      "text/html": [
       "<span style=\"color: green\">2 rows affected.</span>"
      ],
      "text/plain": [
       "2 rows affected."
      ]
     },
     "metadata": {},
     "output_type": "display_data"
    },
    {
     "data": {
      "text/html": [
       "<table>\n",
       "    <thead>\n",
       "        <tr>\n",
       "        </tr>\n",
       "    </thead>\n",
       "    <tbody>\n",
       "    </tbody>\n",
       "</table>"
      ],
      "text/plain": [
       "++\n",
       "||\n",
       "++\n",
       "++"
      ]
     },
     "execution_count": 5,
     "metadata": {},
     "output_type": "execute_result"
    }
   ],
   "source": [
    "%sql INSERT INTO ticket(total) VALUES (50.23), (22.3);"
   ]
  },
  {
   "cell_type": "code",
   "execution_count": 6,
   "id": "4347fb66-11ac-465b-bb98-07f9fb9513d0",
   "metadata": {},
   "outputs": [
    {
     "data": {
      "text/html": [
       "<span style=\"None\">Running query in &#x27;postgresql://postgres:***@pg_western_europe:5432/postgres&#x27;</span>"
      ],
      "text/plain": [
       "Running query in 'postgresql://postgres:***@pg_western_europe:5432/postgres'"
      ]
     },
     "metadata": {},
     "output_type": "display_data"
    },
    {
     "data": {
      "text/html": [
       "<span style=\"color: green\">2 rows affected.</span>"
      ],
      "text/plain": [
       "2 rows affected."
      ]
     },
     "metadata": {},
     "output_type": "display_data"
    },
    {
     "data": {
      "text/html": [
       "<table>\n",
       "    <thead>\n",
       "        <tr>\n",
       "            <th>id</th>\n",
       "            <th>total</th>\n",
       "        </tr>\n",
       "    </thead>\n",
       "    <tbody>\n",
       "        <tr>\n",
       "            <td>cce89557-b5ce-4897-a648-2166d2665451</td>\n",
       "            <td>50.23</td>\n",
       "        </tr>\n",
       "        <tr>\n",
       "            <td>50344fcd-17e4-485e-a262-18427e3d7ced</td>\n",
       "            <td>22.30</td>\n",
       "        </tr>\n",
       "    </tbody>\n",
       "</table>"
      ],
      "text/plain": [
       "+--------------------------------------+-------+\n",
       "|                  id                  | total |\n",
       "+--------------------------------------+-------+\n",
       "| cce89557-b5ce-4897-a648-2166d2665451 | 50.23 |\n",
       "| 50344fcd-17e4-485e-a262-18427e3d7ced | 22.30 |\n",
       "+--------------------------------------+-------+"
      ]
     },
     "execution_count": 6,
     "metadata": {},
     "output_type": "execute_result"
    }
   ],
   "source": [
    "%sql SELECT * FROM ticket;"
   ]
  },
  {
   "cell_type": "markdown",
   "id": "494ee124-5334-4992-acb5-55356974ca38",
   "metadata": {},
   "source": [
    "## Création de la publication\n",
    "\n",
    "Notre table est prête et contient déjà quelques données. On va maintenant créer une publication pour que notre instance nord-américaine puisse se synchroniser avec les changements locaux. "
   ]
  },
  {
   "cell_type": "code",
   "execution_count": 7,
   "id": "c3336b89-ad53-4182-b211-b7a080057ebd",
   "metadata": {},
   "outputs": [
    {
     "data": {
      "text/html": [
       "<span style=\"None\">Running query in &#x27;postgresql://postgres:***@pg_western_europe:5432/postgres&#x27;</span>"
      ],
      "text/plain": [
       "Running query in 'postgresql://postgres:***@pg_western_europe:5432/postgres'"
      ]
     },
     "metadata": {},
     "output_type": "display_data"
    },
    {
     "data": {
      "text/html": [
       "<table>\n",
       "    <thead>\n",
       "        <tr>\n",
       "        </tr>\n",
       "    </thead>\n",
       "    <tbody>\n",
       "    </tbody>\n",
       "</table>"
      ],
      "text/plain": [
       "++\n",
       "||\n",
       "++\n",
       "++"
      ]
     },
     "execution_count": 7,
     "metadata": {},
     "output_type": "execute_result"
    }
   ],
   "source": [
    "%sql CREATE PUBLICATION pub_ticket_western_europe FOR TABLE ticket;"
   ]
  },
  {
   "cell_type": "markdown",
   "id": "6fea6de3-f420-4b38-a703-6640c653e44d",
   "metadata": {},
   "source": [
    "## Création de la souscription\n",
    "\n",
    "Maintenant, nous pouvons nous connecter à l'instance nord-américaine pour mettre en place la souscription.\n",
    "On va commencer par créer une table identique à celle déjà créée plus haut.\n",
    "    \n",
    "> À noter que dans la réplication logique, les opération de DDL (Data Definition Language) ne sont pas répliquées puisque les opérations sont streamées au niveau des tuples uniquement."
   ]
  },
  {
   "cell_type": "code",
   "execution_count": 8,
   "id": "ffefe185-dce1-484e-8ab6-b1d5c394a0d9",
   "metadata": {},
   "outputs": [],
   "source": [
    "%sql engine_pg_na"
   ]
  },
  {
   "cell_type": "code",
   "execution_count": 9,
   "id": "630907cf-cb00-4983-9ebd-2b08ade51d36",
   "metadata": {},
   "outputs": [
    {
     "data": {
      "text/html": [
       "<span style=\"None\">Running query in &#x27;postgresql://postgres:***@pg_na:5432/postgres&#x27;</span>"
      ],
      "text/plain": [
       "Running query in 'postgresql://postgres:***@pg_na:5432/postgres'"
      ]
     },
     "metadata": {},
     "output_type": "display_data"
    },
    {
     "data": {
      "text/html": [
       "<table>\n",
       "    <thead>\n",
       "        <tr>\n",
       "        </tr>\n",
       "    </thead>\n",
       "    <tbody>\n",
       "    </tbody>\n",
       "</table>"
      ],
      "text/plain": [
       "++\n",
       "||\n",
       "++\n",
       "++"
      ]
     },
     "execution_count": 9,
     "metadata": {},
     "output_type": "execute_result"
    }
   ],
   "source": [
    "%%sql DROP TABLE IF EXISTS ticket; CREATE TABLE ticket(\n",
    "    id UUID PRIMARY KEY DEFAULT gen_random_uuid(),\n",
    "    total NUMERIC(5,2)\n",
    ")\n"
   ]
  },
  {
   "cell_type": "code",
   "execution_count": 10,
   "id": "d677b3bd-bda5-4705-9bd6-0c8e8c8e5640",
   "metadata": {},
   "outputs": [
    {
     "data": {
      "text/html": [
       "<span style=\"None\">Running query in &#x27;postgresql://postgres:***@pg_na:5432/postgres&#x27;</span>"
      ],
      "text/plain": [
       "Running query in 'postgresql://postgres:***@pg_na:5432/postgres'"
      ]
     },
     "metadata": {},
     "output_type": "display_data"
    },
    {
     "data": {
      "text/html": [
       "<table>\n",
       "    <thead>\n",
       "        <tr>\n",
       "            <th>id</th>\n",
       "            <th>total</th>\n",
       "        </tr>\n",
       "    </thead>\n",
       "    <tbody>\n",
       "    </tbody>\n",
       "</table>"
      ],
      "text/plain": [
       "+----+-------+\n",
       "| id | total |\n",
       "+----+-------+\n",
       "+----+-------+"
      ]
     },
     "execution_count": 10,
     "metadata": {},
     "output_type": "execute_result"
    }
   ],
   "source": [
    "%sql SELECT * FROM ticket;"
   ]
  },
  {
   "cell_type": "markdown",
   "id": "df90d800-0cd5-4ed7-9826-254d87778e96",
   "metadata": {},
   "source": [
    "On va pouvoir souscrire à la publication réalisée plus haut sur l'autre instance."
   ]
  },
  {
   "cell_type": "code",
   "execution_count": 11,
   "id": "d7e7a825-219e-434e-a4b8-2ad5d28fe0b3",
   "metadata": {},
   "outputs": [
    {
     "data": {
      "text/html": [
       "<span style=\"None\">Running query in &#x27;postgresql://postgres:***@pg_na:5432/postgres&#x27;</span>"
      ],
      "text/plain": [
       "Running query in 'postgresql://postgres:***@pg_na:5432/postgres'"
      ]
     },
     "metadata": {},
     "output_type": "display_data"
    },
    {
     "data": {
      "text/html": [
       "<table>\n",
       "    <thead>\n",
       "        <tr>\n",
       "        </tr>\n",
       "    </thead>\n",
       "    <tbody>\n",
       "    </tbody>\n",
       "</table>"
      ],
      "text/plain": [
       "++\n",
       "||\n",
       "++\n",
       "++"
      ]
     },
     "execution_count": 11,
     "metadata": {},
     "output_type": "execute_result"
    }
   ],
   "source": [
    "%%sql CREATE SUBSCRIPTION sub_ticket_western_europe\n",
    "    CONNECTION 'host=pg_western_europe port=5432 user=postgres'\n",
    "    PUBLICATION pub_ticket_western_europe;"
   ]
  },
  {
   "cell_type": "markdown",
   "id": "8267490b-503f-4387-9b31-e45fef15a32d",
   "metadata": {},
   "source": [
    "Lorsqu'on crée une souscription sur un noeud, le processus commence par prendre un instantané de la table sur le noeud publicateur. Pour vérifier que cela fonctionne correctement, regardons le contenu de notre table :"
   ]
  },
  {
   "cell_type": "code",
   "execution_count": 12,
   "id": "e583665e-9d9a-4527-9192-908ed77bf652",
   "metadata": {},
   "outputs": [
    {
     "data": {
      "text/html": [
       "<span style=\"None\">Running query in &#x27;postgresql://postgres:***@pg_na:5432/postgres&#x27;</span>"
      ],
      "text/plain": [
       "Running query in 'postgresql://postgres:***@pg_na:5432/postgres'"
      ]
     },
     "metadata": {},
     "output_type": "display_data"
    },
    {
     "data": {
      "text/html": [
       "<span style=\"color: green\">2 rows affected.</span>"
      ],
      "text/plain": [
       "2 rows affected."
      ]
     },
     "metadata": {},
     "output_type": "display_data"
    },
    {
     "data": {
      "text/html": [
       "<table>\n",
       "    <thead>\n",
       "        <tr>\n",
       "            <th>id</th>\n",
       "            <th>total</th>\n",
       "        </tr>\n",
       "    </thead>\n",
       "    <tbody>\n",
       "        <tr>\n",
       "            <td>cce89557-b5ce-4897-a648-2166d2665451</td>\n",
       "            <td>50.23</td>\n",
       "        </tr>\n",
       "        <tr>\n",
       "            <td>50344fcd-17e4-485e-a262-18427e3d7ced</td>\n",
       "            <td>22.30</td>\n",
       "        </tr>\n",
       "    </tbody>\n",
       "</table>"
      ],
      "text/plain": [
       "+--------------------------------------+-------+\n",
       "|                  id                  | total |\n",
       "+--------------------------------------+-------+\n",
       "| cce89557-b5ce-4897-a648-2166d2665451 | 50.23 |\n",
       "| 50344fcd-17e4-485e-a262-18427e3d7ced | 22.30 |\n",
       "+--------------------------------------+-------+"
      ]
     },
     "execution_count": 12,
     "metadata": {},
     "output_type": "execute_result"
    }
   ],
   "source": [
    "%sql SELECT * FROM ticket;"
   ]
  },
  {
   "cell_type": "markdown",
   "id": "14df3746-066c-4897-a8ef-f262d5560eab",
   "metadata": {},
   "source": [
    "Nous avons bien les données insérées plus haut dans la base `pg_western_europe`. Maintenant, que se passe-t-il si on essaie de faire un insert ?"
   ]
  },
  {
   "cell_type": "code",
   "execution_count": 13,
   "id": "771d9a99-4fc1-4f99-be5c-ae073f3f3aaf",
   "metadata": {},
   "outputs": [
    {
     "data": {
      "text/html": [
       "<span style=\"None\">Running query in &#x27;postgresql://postgres:***@pg_na:5432/postgres&#x27;</span>"
      ],
      "text/plain": [
       "Running query in 'postgresql://postgres:***@pg_na:5432/postgres'"
      ]
     },
     "metadata": {},
     "output_type": "display_data"
    },
    {
     "data": {
      "text/html": [
       "<span style=\"color: green\">1 rows affected.</span>"
      ],
      "text/plain": [
       "1 rows affected."
      ]
     },
     "metadata": {},
     "output_type": "display_data"
    },
    {
     "data": {
      "text/html": [
       "<span style=\"color: green\">3 rows affected.</span>"
      ],
      "text/plain": [
       "3 rows affected."
      ]
     },
     "metadata": {},
     "output_type": "display_data"
    },
    {
     "data": {
      "text/html": [
       "<table>\n",
       "    <thead>\n",
       "        <tr>\n",
       "            <th>id</th>\n",
       "            <th>total</th>\n",
       "        </tr>\n",
       "    </thead>\n",
       "    <tbody>\n",
       "        <tr>\n",
       "            <td>cce89557-b5ce-4897-a648-2166d2665451</td>\n",
       "            <td>50.23</td>\n",
       "        </tr>\n",
       "        <tr>\n",
       "            <td>50344fcd-17e4-485e-a262-18427e3d7ced</td>\n",
       "            <td>22.30</td>\n",
       "        </tr>\n",
       "        <tr>\n",
       "            <td>23b49661-8c5b-41ab-8132-a1fbf11d8439</td>\n",
       "            <td>15.32</td>\n",
       "        </tr>\n",
       "    </tbody>\n",
       "</table>"
      ],
      "text/plain": [
       "+--------------------------------------+-------+\n",
       "|                  id                  | total |\n",
       "+--------------------------------------+-------+\n",
       "| cce89557-b5ce-4897-a648-2166d2665451 | 50.23 |\n",
       "| 50344fcd-17e4-485e-a262-18427e3d7ced | 22.30 |\n",
       "| 23b49661-8c5b-41ab-8132-a1fbf11d8439 | 15.32 |\n",
       "+--------------------------------------+-------+"
      ]
     },
     "execution_count": 13,
     "metadata": {},
     "output_type": "execute_result"
    }
   ],
   "source": [
    "%sql INSERT INTO ticket (total) VALUES (15.32) ON CONFLICT DO NOTHING; SELECT * FROM ticket;"
   ]
  },
  {
   "cell_type": "markdown",
   "id": "e1b3ad94-7dc3-4a5a-b9c9-a3801b36ec22",
   "metadata": {},
   "source": [
    "Nous avons bien notre nouveau ticket. Par contre, il est logique qu'il ne soit pas répliqué de l'autre côté de l'Atlantique puisque nous n'avons pas encore réalisé la route \"retour\". C'est ce que nous allons faire à présent."
   ]
  },
  {
   "cell_type": "code",
   "execution_count": 14,
   "id": "6f95cdcf-0945-41fd-9c40-3d15ebf6d33e",
   "metadata": {},
   "outputs": [
    {
     "data": {
      "text/html": [
       "<span style=\"None\">Running query in &#x27;postgresql://postgres:***@pg_na:5432/postgres&#x27;</span>"
      ],
      "text/plain": [
       "Running query in 'postgresql://postgres:***@pg_na:5432/postgres'"
      ]
     },
     "metadata": {},
     "output_type": "display_data"
    },
    {
     "data": {
      "text/html": [
       "<table>\n",
       "    <thead>\n",
       "        <tr>\n",
       "        </tr>\n",
       "    </thead>\n",
       "    <tbody>\n",
       "    </tbody>\n",
       "</table>"
      ],
      "text/plain": [
       "++\n",
       "||\n",
       "++\n",
       "++"
      ]
     },
     "execution_count": 14,
     "metadata": {},
     "output_type": "execute_result"
    }
   ],
   "source": [
    "%sql CREATE PUBLICATION pub_ticket_na FOR TABLE ticket;"
   ]
  },
  {
   "cell_type": "code",
   "execution_count": 15,
   "id": "d5f5f5b1-e38e-4125-8481-83ec270f946f",
   "metadata": {},
   "outputs": [],
   "source": [
    "%sql engine_pg_western_europe"
   ]
  },
  {
   "cell_type": "code",
   "execution_count": 16,
   "id": "f746eda2-3f59-461e-8b00-8a518287bafa",
   "metadata": {},
   "outputs": [
    {
     "data": {
      "text/html": [
       "<span style=\"None\">Running query in &#x27;postgresql://postgres:***@pg_western_europe:5432/postgres&#x27;</span>"
      ],
      "text/plain": [
       "Running query in 'postgresql://postgres:***@pg_western_europe:5432/postgres'"
      ]
     },
     "metadata": {},
     "output_type": "display_data"
    },
    {
     "data": {
      "text/html": [
       "<table>\n",
       "    <thead>\n",
       "        <tr>\n",
       "        </tr>\n",
       "    </thead>\n",
       "    <tbody>\n",
       "    </tbody>\n",
       "</table>"
      ],
      "text/plain": [
       "++\n",
       "||\n",
       "++\n",
       "++"
      ]
     },
     "execution_count": 16,
     "metadata": {},
     "output_type": "execute_result"
    }
   ],
   "source": [
    "%%sql CREATE SUBSCRIPTION sub_ticket_na\n",
    "    CONNECTION 'host=pg_na port=5432 user=postgres'\n",
    "    PUBLICATION pub_ticket_na;"
   ]
  },
  {
   "cell_type": "code",
   "execution_count": 17,
   "id": "cc243f9d-d74c-4dde-ba64-082046d2f6bf",
   "metadata": {},
   "outputs": [
    {
     "data": {
      "text/html": [
       "<span style=\"None\">Running query in &#x27;postgresql://postgres:***@pg_western_europe:5432/postgres&#x27;</span>"
      ],
      "text/plain": [
       "Running query in 'postgresql://postgres:***@pg_western_europe:5432/postgres'"
      ]
     },
     "metadata": {},
     "output_type": "display_data"
    },
    {
     "data": {
      "text/html": [
       "<span style=\"color: green\">2 rows affected.</span>"
      ],
      "text/plain": [
       "2 rows affected."
      ]
     },
     "metadata": {},
     "output_type": "display_data"
    },
    {
     "data": {
      "text/html": [
       "<table>\n",
       "    <thead>\n",
       "        <tr>\n",
       "            <th>id</th>\n",
       "            <th>total</th>\n",
       "        </tr>\n",
       "    </thead>\n",
       "    <tbody>\n",
       "        <tr>\n",
       "            <td>cce89557-b5ce-4897-a648-2166d2665451</td>\n",
       "            <td>50.23</td>\n",
       "        </tr>\n",
       "        <tr>\n",
       "            <td>50344fcd-17e4-485e-a262-18427e3d7ced</td>\n",
       "            <td>22.30</td>\n",
       "        </tr>\n",
       "    </tbody>\n",
       "</table>"
      ],
      "text/plain": [
       "+--------------------------------------+-------+\n",
       "|                  id                  | total |\n",
       "+--------------------------------------+-------+\n",
       "| cce89557-b5ce-4897-a648-2166d2665451 | 50.23 |\n",
       "| 50344fcd-17e4-485e-a262-18427e3d7ced | 22.30 |\n",
       "+--------------------------------------+-------+"
      ]
     },
     "execution_count": 17,
     "metadata": {},
     "output_type": "execute_result"
    }
   ],
   "source": [
    "%sql SELECT * FROM ticket;"
   ]
  },
  {
   "cell_type": "markdown",
   "id": "e05bda3a-5681-4213-a82d-5d12f497c076",
   "metadata": {},
   "source": [
    "Misère, notre ligne rajoutée plus haut ne remonte pas. En analysant les logs de notre instance pg-western-europe, on voit ce genre de messages (peut varier car l'UUID est autogénéré)\n",
    "\n",
    "```\n",
    "pg-western-europe-1 |2025-02-05 11:04:03.441 UTC [84] LOG:  logical replication table synchronization worker for subscription \"sub_ticket_na\", table \"ticket\" has started\n",
    "pg-western-europe-1 |2025-02-05 11:04:03.465 UTC [84] ERROR:  duplicate key value violates unique constraint \"ticket_pkey\"\n",
    "pg-western-europe-1 |2025-02-05 11:04:03.465 UTC [84] DETAIL:  Key (id)=(c7eb8a92-35ea-4be5-9c51-1691f645381a) already exists.\n",
    "pg-western-europe-1 |2025-02-05 11:04:03.465 UTC [84] CONTEXT:  COPY ticket, line 1\n",
    "```\n",
    "\n",
    "On arrive au problème inhérent à la réplication bi-directionnelle : la boucle de réplication. On essaie là de répliquer une donnée déjà présente sur le souscriveur, on reçoit donc une erreur liée à l'unicité des clés primaires. On va donc utiliser l'option `copy_data` pour désactiver la copie initiale, ce qui pourrait nécessiter en conditions réelles de faire une synchronisation par un autre biais.\n",
    "\n"
   ]
  },
  {
   "cell_type": "code",
   "execution_count": 18,
   "id": "d69e79a8-cb2b-42e9-9527-bf6f875579ab",
   "metadata": {},
   "outputs": [
    {
     "data": {
      "text/html": [
       "<span style=\"None\">Running query in &#x27;postgresql://postgres:***@pg_western_europe:5432/postgres&#x27;</span>"
      ],
      "text/plain": [
       "Running query in 'postgresql://postgres:***@pg_western_europe:5432/postgres'"
      ]
     },
     "metadata": {},
     "output_type": "display_data"
    },
    {
     "data": {
      "text/html": [
       "<table>\n",
       "    <thead>\n",
       "        <tr>\n",
       "        </tr>\n",
       "    </thead>\n",
       "    <tbody>\n",
       "    </tbody>\n",
       "</table>"
      ],
      "text/plain": [
       "++\n",
       "||\n",
       "++\n",
       "++"
      ]
     },
     "execution_count": 18,
     "metadata": {},
     "output_type": "execute_result"
    }
   ],
   "source": [
    "%sql DROP SUBSCRIPTION sub_ticket_na"
   ]
  },
  {
   "cell_type": "code",
   "execution_count": 19,
   "id": "69f31acc-19e7-4f86-b353-72c430e0e569",
   "metadata": {},
   "outputs": [
    {
     "data": {
      "text/html": [
       "<span style=\"None\">Running query in &#x27;postgresql://postgres:***@pg_western_europe:5432/postgres&#x27;</span>"
      ],
      "text/plain": [
       "Running query in 'postgresql://postgres:***@pg_western_europe:5432/postgres'"
      ]
     },
     "metadata": {},
     "output_type": "display_data"
    },
    {
     "data": {
      "text/html": [
       "<table>\n",
       "    <thead>\n",
       "        <tr>\n",
       "        </tr>\n",
       "    </thead>\n",
       "    <tbody>\n",
       "    </tbody>\n",
       "</table>"
      ],
      "text/plain": [
       "++\n",
       "||\n",
       "++\n",
       "++"
      ]
     },
     "execution_count": 19,
     "metadata": {},
     "output_type": "execute_result"
    }
   ],
   "source": [
    "%%sql CREATE SUBSCRIPTION sub_ticket_na\n",
    "    CONNECTION 'host=pg_na port=5432 user=postgres'\n",
    "    PUBLICATION pub_ticket_na\n",
    "    WITH (copy_data=false, ORIGIN=none);"
   ]
  },
  {
   "cell_type": "code",
   "execution_count": 20,
   "id": "047cef13-30a2-4657-98b8-e2c644306f65",
   "metadata": {},
   "outputs": [
    {
     "data": {
      "text/html": [
       "<span style=\"None\">Running query in &#x27;postgresql://postgres:***@pg_western_europe:5432/postgres&#x27;</span>"
      ],
      "text/plain": [
       "Running query in 'postgresql://postgres:***@pg_western_europe:5432/postgres'"
      ]
     },
     "metadata": {},
     "output_type": "display_data"
    },
    {
     "data": {
      "text/html": [
       "<span style=\"color: green\">2 rows affected.</span>"
      ],
      "text/plain": [
       "2 rows affected."
      ]
     },
     "metadata": {},
     "output_type": "display_data"
    },
    {
     "data": {
      "text/html": [
       "<table>\n",
       "    <thead>\n",
       "        <tr>\n",
       "            <th>id</th>\n",
       "            <th>total</th>\n",
       "        </tr>\n",
       "    </thead>\n",
       "    <tbody>\n",
       "        <tr>\n",
       "            <td>cce89557-b5ce-4897-a648-2166d2665451</td>\n",
       "            <td>50.23</td>\n",
       "        </tr>\n",
       "        <tr>\n",
       "            <td>50344fcd-17e4-485e-a262-18427e3d7ced</td>\n",
       "            <td>22.30</td>\n",
       "        </tr>\n",
       "    </tbody>\n",
       "</table>"
      ],
      "text/plain": [
       "+--------------------------------------+-------+\n",
       "|                  id                  | total |\n",
       "+--------------------------------------+-------+\n",
       "| cce89557-b5ce-4897-a648-2166d2665451 | 50.23 |\n",
       "| 50344fcd-17e4-485e-a262-18427e3d7ced | 22.30 |\n",
       "+--------------------------------------+-------+"
      ]
     },
     "execution_count": 20,
     "metadata": {},
     "output_type": "execute_result"
    }
   ],
   "source": [
    "%sql SELECT * FROM ticket;"
   ]
  },
  {
   "cell_type": "code",
   "execution_count": 21,
   "id": "cf9b8740-5a39-4b82-9bdf-e5943f35e1b4",
   "metadata": {},
   "outputs": [],
   "source": [
    "%sql engine_pg_na"
   ]
  },
  {
   "cell_type": "code",
   "execution_count": 22,
   "id": "b133b15a-4380-4ff9-963a-3d577c8a77b5",
   "metadata": {},
   "outputs": [
    {
     "data": {
      "text/html": [
       "<span style=\"None\">Running query in &#x27;postgresql://postgres:***@pg_na:5432/postgres&#x27;</span>"
      ],
      "text/plain": [
       "Running query in 'postgresql://postgres:***@pg_na:5432/postgres'"
      ]
     },
     "metadata": {},
     "output_type": "display_data"
    },
    {
     "data": {
      "text/html": [
       "<span style=\"color: green\">1 rows affected.</span>"
      ],
      "text/plain": [
       "1 rows affected."
      ]
     },
     "metadata": {},
     "output_type": "display_data"
    },
    {
     "data": {
      "text/html": [
       "<table>\n",
       "    <thead>\n",
       "        <tr>\n",
       "        </tr>\n",
       "    </thead>\n",
       "    <tbody>\n",
       "    </tbody>\n",
       "</table>"
      ],
      "text/plain": [
       "++\n",
       "||\n",
       "++\n",
       "++"
      ]
     },
     "execution_count": 22,
     "metadata": {},
     "output_type": "execute_result"
    }
   ],
   "source": [
    "%sql INSERT INTO ticket(total) VALUES(14.34);"
   ]
  },
  {
   "cell_type": "code",
   "execution_count": 23,
   "id": "51acba00-213e-430a-a598-792bb9ae5761",
   "metadata": {},
   "outputs": [],
   "source": [
    "%sql engine_pg_western_europe"
   ]
  },
  {
   "cell_type": "code",
   "execution_count": 24,
   "id": "22d78ba3-c336-41d5-868f-608e37afbf5b",
   "metadata": {},
   "outputs": [
    {
     "data": {
      "text/html": [
       "<span style=\"None\">Running query in &#x27;postgresql://postgres:***@pg_western_europe:5432/postgres&#x27;</span>"
      ],
      "text/plain": [
       "Running query in 'postgresql://postgres:***@pg_western_europe:5432/postgres'"
      ]
     },
     "metadata": {},
     "output_type": "display_data"
    },
    {
     "data": {
      "text/html": [
       "<span style=\"color: green\">3 rows affected.</span>"
      ],
      "text/plain": [
       "3 rows affected."
      ]
     },
     "metadata": {},
     "output_type": "display_data"
    },
    {
     "data": {
      "text/html": [
       "<table>\n",
       "    <thead>\n",
       "        <tr>\n",
       "            <th>id</th>\n",
       "            <th>total</th>\n",
       "        </tr>\n",
       "    </thead>\n",
       "    <tbody>\n",
       "        <tr>\n",
       "            <td>cce89557-b5ce-4897-a648-2166d2665451</td>\n",
       "            <td>50.23</td>\n",
       "        </tr>\n",
       "        <tr>\n",
       "            <td>50344fcd-17e4-485e-a262-18427e3d7ced</td>\n",
       "            <td>22.30</td>\n",
       "        </tr>\n",
       "        <tr>\n",
       "            <td>15d85d16-aba1-481b-b5d4-4b8303a8fc1b</td>\n",
       "            <td>14.34</td>\n",
       "        </tr>\n",
       "    </tbody>\n",
       "</table>"
      ],
      "text/plain": [
       "+--------------------------------------+-------+\n",
       "|                  id                  | total |\n",
       "+--------------------------------------+-------+\n",
       "| cce89557-b5ce-4897-a648-2166d2665451 | 50.23 |\n",
       "| 50344fcd-17e4-485e-a262-18427e3d7ced | 22.30 |\n",
       "| 15d85d16-aba1-481b-b5d4-4b8303a8fc1b | 14.34 |\n",
       "+--------------------------------------+-------+"
      ]
     },
     "execution_count": 24,
     "metadata": {},
     "output_type": "execute_result"
    }
   ],
   "source": [
    "%sql SELECT * FROM ticket;"
   ]
  },
  {
   "cell_type": "markdown",
   "id": "09227283-e91e-49f0-9050-91f617bbf471",
   "metadata": {},
   "source": [
    "Superbe, maintenant on obtient bien dans la base `pg_western_europe` les lignes insérées dans la base `pg_na`. Par contre, on arrive sur un petit souci dans celle-ci...\n",
    "\n",
    "```\n",
    "pg-na-1 |2025-02-05 12:44:34.052 UTC [91] LOG:  logical replication apply worker for subscription \"sub_ticket_western_europe\" has started\n",
    "pg-na-1 |2025-02-05 12:44:34.060 UTC [91] ERROR:  duplicate key value violates unique constraint \"ticket_pkey\"\n",
    "pg-na-1 |2025-02-05 12:44:34.060 UTC [91] DETAIL:  Key (id)=(15d85d16-aba1-481b-b5d4-4b8303a8fc1b) already exists.\n",
    "pg-na-1 |2025-02-05 12:44:34.060 UTC [91] CONTEXT:  processing remote data for replication origin \"pg_16394\" during message type \"INSERT\" for replication target relation \"public.ticket\" in transaction 762, finished at 0/155A788\n",
    "pg-na-1 |2025-02-05 12:44:34.062 UTC [1] LOG:  background worker \"logical replication apply worker\" (PID 91) exited with exit code 1\n",
    "\n",
    "```\n",
    "\n",
    "La ligne répliquée sur la base `pg_western_europe` revient sur la base `pg_na` car nous avions déjà un canal de réplication d'ouvert.\n",
    "\n",
    "C'est là que PostgreSQL 16.x introduit une amélioration, avec l'ajout de l'option ORIGIN dans les souscriptions ! On va donc dropper la souscription existante pour en recréer une avec la bonne configuration.\n"
   ]
  },
  {
   "cell_type": "code",
   "execution_count": 25,
   "id": "5692b450-e79d-4b03-bbfb-0150e604ad53",
   "metadata": {},
   "outputs": [],
   "source": [
    "%sql engine_pg_na"
   ]
  },
  {
   "cell_type": "code",
   "execution_count": 26,
   "id": "c977f6bf-c62c-46f9-b881-db9d311d471e",
   "metadata": {},
   "outputs": [
    {
     "data": {
      "text/html": [
       "<span style=\"None\">Running query in &#x27;postgresql://postgres:***@pg_na:5432/postgres&#x27;</span>"
      ],
      "text/plain": [
       "Running query in 'postgresql://postgres:***@pg_na:5432/postgres'"
      ]
     },
     "metadata": {},
     "output_type": "display_data"
    },
    {
     "data": {
      "text/html": [
       "<table>\n",
       "    <thead>\n",
       "        <tr>\n",
       "        </tr>\n",
       "    </thead>\n",
       "    <tbody>\n",
       "    </tbody>\n",
       "</table>"
      ],
      "text/plain": [
       "++\n",
       "||\n",
       "++\n",
       "++"
      ]
     },
     "execution_count": 26,
     "metadata": {},
     "output_type": "execute_result"
    }
   ],
   "source": [
    "%sql DROP SUBSCRIPTION sub_ticket_western_europe"
   ]
  },
  {
   "cell_type": "code",
   "execution_count": 27,
   "id": "51dae364-09f8-4e79-91ce-d876a537fd89",
   "metadata": {},
   "outputs": [
    {
     "data": {
      "text/html": [
       "<span style=\"None\">Running query in &#x27;postgresql://postgres:***@pg_na:5432/postgres&#x27;</span>"
      ],
      "text/plain": [
       "Running query in 'postgresql://postgres:***@pg_na:5432/postgres'"
      ]
     },
     "metadata": {},
     "output_type": "display_data"
    },
    {
     "data": {
      "text/html": [
       "<table>\n",
       "    <thead>\n",
       "        <tr>\n",
       "        </tr>\n",
       "    </thead>\n",
       "    <tbody>\n",
       "    </tbody>\n",
       "</table>"
      ],
      "text/plain": [
       "++\n",
       "||\n",
       "++\n",
       "++"
      ]
     },
     "execution_count": 27,
     "metadata": {},
     "output_type": "execute_result"
    }
   ],
   "source": [
    "%%sql CREATE SUBSCRIPTION sub_ticket_western_europe\n",
    "    CONNECTION 'host=pg_western_europe port=5432 user=postgres'\n",
    "    PUBLICATION pub_ticket_western_europe\n",
    "    WITH (copy_data=false, ORIGIN=none);"
   ]
  },
  {
   "cell_type": "markdown",
   "id": "a89fadbd-cb6e-4a7d-8ba1-665730685c2d",
   "metadata": {},
   "source": [
    "Maintenant, on va réessayer d'insérer une ligne côté NA et s'assurer que nous n'avons pas le problème de retour."
   ]
  },
  {
   "cell_type": "code",
   "execution_count": 28,
   "id": "9c8ff272-f22c-4fa9-9d74-c003e13e3bcf",
   "metadata": {},
   "outputs": [
    {
     "data": {
      "text/html": [
       "<span style=\"None\">Running query in &#x27;postgresql://postgres:***@pg_na:5432/postgres&#x27;</span>"
      ],
      "text/plain": [
       "Running query in 'postgresql://postgres:***@pg_na:5432/postgres'"
      ]
     },
     "metadata": {},
     "output_type": "display_data"
    },
    {
     "data": {
      "text/html": [
       "<span style=\"color: green\">1 rows affected.</span>"
      ],
      "text/plain": [
       "1 rows affected."
      ]
     },
     "metadata": {},
     "output_type": "display_data"
    },
    {
     "data": {
      "text/html": [
       "<table>\n",
       "    <thead>\n",
       "        <tr>\n",
       "        </tr>\n",
       "    </thead>\n",
       "    <tbody>\n",
       "    </tbody>\n",
       "</table>"
      ],
      "text/plain": [
       "++\n",
       "||\n",
       "++\n",
       "++"
      ]
     },
     "execution_count": 28,
     "metadata": {},
     "output_type": "execute_result"
    }
   ],
   "source": [
    "%sql INSERT INTO ticket(total) VALUES(17.28);"
   ]
  },
  {
   "cell_type": "code",
   "execution_count": 29,
   "id": "b02e34ee-5946-475d-8f7e-cbc3aa328d7e",
   "metadata": {},
   "outputs": [],
   "source": [
    "%sql engine_pg_western_europe"
   ]
  },
  {
   "cell_type": "code",
   "execution_count": 30,
   "id": "163541d2-c64c-4189-90bd-5069448f381a",
   "metadata": {},
   "outputs": [
    {
     "data": {
      "text/html": [
       "<span style=\"None\">Running query in &#x27;postgresql://postgres:***@pg_western_europe:5432/postgres&#x27;</span>"
      ],
      "text/plain": [
       "Running query in 'postgresql://postgres:***@pg_western_europe:5432/postgres'"
      ]
     },
     "metadata": {},
     "output_type": "display_data"
    },
    {
     "data": {
      "text/html": [
       "<span style=\"color: green\">4 rows affected.</span>"
      ],
      "text/plain": [
       "4 rows affected."
      ]
     },
     "metadata": {},
     "output_type": "display_data"
    },
    {
     "data": {
      "text/html": [
       "<table>\n",
       "    <thead>\n",
       "        <tr>\n",
       "            <th>id</th>\n",
       "            <th>total</th>\n",
       "        </tr>\n",
       "    </thead>\n",
       "    <tbody>\n",
       "        <tr>\n",
       "            <td>cce89557-b5ce-4897-a648-2166d2665451</td>\n",
       "            <td>50.23</td>\n",
       "        </tr>\n",
       "        <tr>\n",
       "            <td>50344fcd-17e4-485e-a262-18427e3d7ced</td>\n",
       "            <td>22.30</td>\n",
       "        </tr>\n",
       "        <tr>\n",
       "            <td>15d85d16-aba1-481b-b5d4-4b8303a8fc1b</td>\n",
       "            <td>14.34</td>\n",
       "        </tr>\n",
       "        <tr>\n",
       "            <td>91f21a82-41ac-4d6b-82d5-9859eea13f2d</td>\n",
       "            <td>17.28</td>\n",
       "        </tr>\n",
       "    </tbody>\n",
       "</table>"
      ],
      "text/plain": [
       "+--------------------------------------+-------+\n",
       "|                  id                  | total |\n",
       "+--------------------------------------+-------+\n",
       "| cce89557-b5ce-4897-a648-2166d2665451 | 50.23 |\n",
       "| 50344fcd-17e4-485e-a262-18427e3d7ced | 22.30 |\n",
       "| 15d85d16-aba1-481b-b5d4-4b8303a8fc1b | 14.34 |\n",
       "| 91f21a82-41ac-4d6b-82d5-9859eea13f2d | 17.28 |\n",
       "+--------------------------------------+-------+"
      ]
     },
     "execution_count": 30,
     "metadata": {},
     "output_type": "execute_result"
    }
   ],
   "source": [
    "%sql SELECT * FROM ticket;"
   ]
  },
  {
   "cell_type": "code",
   "execution_count": 31,
   "id": "c3abd077-1b42-43e7-a6b6-7ec358dffeb5",
   "metadata": {},
   "outputs": [
    {
     "data": {
      "text/html": [
       "<span style=\"None\">Running query in &#x27;postgresql://postgres:***@pg_western_europe:5432/postgres&#x27;</span>"
      ],
      "text/plain": [
       "Running query in 'postgresql://postgres:***@pg_western_europe:5432/postgres'"
      ]
     },
     "metadata": {},
     "output_type": "display_data"
    },
    {
     "data": {
      "text/html": [
       "<span style=\"color: green\">1 rows affected.</span>"
      ],
      "text/plain": [
       "1 rows affected."
      ]
     },
     "metadata": {},
     "output_type": "display_data"
    },
    {
     "data": {
      "text/html": [
       "<table>\n",
       "    <thead>\n",
       "        <tr>\n",
       "        </tr>\n",
       "    </thead>\n",
       "    <tbody>\n",
       "    </tbody>\n",
       "</table>"
      ],
      "text/plain": [
       "++\n",
       "||\n",
       "++\n",
       "++"
      ]
     },
     "execution_count": 31,
     "metadata": {},
     "output_type": "execute_result"
    }
   ],
   "source": [
    "%sql INSERT INTO ticket(total) VALUES(20.31);"
   ]
  },
  {
   "cell_type": "code",
   "execution_count": 32,
   "id": "3ea92b6d-4454-41e4-a1a4-9a845707ac86",
   "metadata": {},
   "outputs": [],
   "source": [
    "%sql engine_pg_na"
   ]
  },
  {
   "cell_type": "code",
   "execution_count": 33,
   "id": "ebb6a078-7858-4ebe-9144-2e82b7e89eb8",
   "metadata": {},
   "outputs": [
    {
     "data": {
      "text/html": [
       "<span style=\"None\">Running query in &#x27;postgresql://postgres:***@pg_na:5432/postgres&#x27;</span>"
      ],
      "text/plain": [
       "Running query in 'postgresql://postgres:***@pg_na:5432/postgres'"
      ]
     },
     "metadata": {},
     "output_type": "display_data"
    },
    {
     "data": {
      "text/html": [
       "<span style=\"color: green\">6 rows affected.</span>"
      ],
      "text/plain": [
       "6 rows affected."
      ]
     },
     "metadata": {},
     "output_type": "display_data"
    },
    {
     "data": {
      "text/html": [
       "<table>\n",
       "    <thead>\n",
       "        <tr>\n",
       "            <th>id</th>\n",
       "            <th>total</th>\n",
       "        </tr>\n",
       "    </thead>\n",
       "    <tbody>\n",
       "        <tr>\n",
       "            <td>cce89557-b5ce-4897-a648-2166d2665451</td>\n",
       "            <td>50.23</td>\n",
       "        </tr>\n",
       "        <tr>\n",
       "            <td>50344fcd-17e4-485e-a262-18427e3d7ced</td>\n",
       "            <td>22.30</td>\n",
       "        </tr>\n",
       "        <tr>\n",
       "            <td>23b49661-8c5b-41ab-8132-a1fbf11d8439</td>\n",
       "            <td>15.32</td>\n",
       "        </tr>\n",
       "        <tr>\n",
       "            <td>15d85d16-aba1-481b-b5d4-4b8303a8fc1b</td>\n",
       "            <td>14.34</td>\n",
       "        </tr>\n",
       "        <tr>\n",
       "            <td>91f21a82-41ac-4d6b-82d5-9859eea13f2d</td>\n",
       "            <td>17.28</td>\n",
       "        </tr>\n",
       "        <tr>\n",
       "            <td>d6a46101-724f-4bef-ab8e-9c641d9e9ff2</td>\n",
       "            <td>20.31</td>\n",
       "        </tr>\n",
       "    </tbody>\n",
       "</table>"
      ],
      "text/plain": [
       "+--------------------------------------+-------+\n",
       "|                  id                  | total |\n",
       "+--------------------------------------+-------+\n",
       "| cce89557-b5ce-4897-a648-2166d2665451 | 50.23 |\n",
       "| 50344fcd-17e4-485e-a262-18427e3d7ced | 22.30 |\n",
       "| 23b49661-8c5b-41ab-8132-a1fbf11d8439 | 15.32 |\n",
       "| 15d85d16-aba1-481b-b5d4-4b8303a8fc1b | 14.34 |\n",
       "| 91f21a82-41ac-4d6b-82d5-9859eea13f2d | 17.28 |\n",
       "| d6a46101-724f-4bef-ab8e-9c641d9e9ff2 | 20.31 |\n",
       "+--------------------------------------+-------+"
      ]
     },
     "execution_count": 33,
     "metadata": {},
     "output_type": "execute_result"
    }
   ],
   "source": [
    "%sql SELECT * FROM ticket;"
   ]
  },
  {
   "cell_type": "markdown",
   "id": "023ddb93-6a39-4625-8496-9e4c82efa098",
   "metadata": {},
   "source": [
    "La ligne avec `total=17.28` créée sur `pg_na` a bien été répliquée sur `pg_western_europe`, et on a même pu valider que le process n'était pas bloqué en créant une ligne (`total=20.31`) sur `pg_western_europe` qui s'est bien retrouvée de l'autre côté."
   ]
  }
 ],
 "metadata": {
  "kernelspec": {
   "display_name": "Python 3 (ipykernel)",
   "language": "python",
   "name": "python3"
  },
  "language_info": {
   "codemirror_mode": {
    "name": "ipython",
    "version": 3
   },
   "file_extension": ".py",
   "mimetype": "text/x-python",
   "name": "python",
   "nbconvert_exporter": "python",
   "pygments_lexer": "ipython3",
   "version": "3.12.8"
  }
 },
 "nbformat": 4,
 "nbformat_minor": 5
}
